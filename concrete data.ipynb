{
 "cells": [
  {
   "cell_type": "code",
   "execution_count": 1,
   "id": "20a60864-0dfd-447f-bfbf-77a0ceda042e",
   "metadata": {},
   "outputs": [],
   "source": [
    "import numpy as np\n",
    "import pandas as pd\n",
    "import matplotlib.pyplot as plt\n",
    "import seaborn as sns\n",
    "\n",
    "\n",
    "import warnings\n",
    "warnings.simplefilter(\"ignore\")"
   ]
  },
  {
   "cell_type": "code",
   "execution_count": 2,
   "id": "24b6559c-f83e-4169-8d4e-859bcf71adc0",
   "metadata": {},
   "outputs": [],
   "source": [
    "from sklearn.model_selection import train_test_split\n",
    "from sklearn.linear_model import Ridge\n",
    "from sklearn.metrics import r2_score\n",
    "from sklearn.model_selection import GridSearchCV\n",
    "from sklearn.model_selection import cross_val_score"
   ]
  },
  {
   "cell_type": "code",
   "execution_count": 3,
   "id": "f42494ef-1081-44d4-922e-f15e66b1ba8f",
   "metadata": {},
   "outputs": [
    {
     "data": {
      "text/html": [
       "<div>\n",
       "<style scoped>\n",
       "    .dataframe tbody tr th:only-of-type {\n",
       "        vertical-align: middle;\n",
       "    }\n",
       "\n",
       "    .dataframe tbody tr th {\n",
       "        vertical-align: top;\n",
       "    }\n",
       "\n",
       "    .dataframe thead th {\n",
       "        text-align: right;\n",
       "    }\n",
       "</style>\n",
       "<table border=\"1\" class=\"dataframe\">\n",
       "  <thead>\n",
       "    <tr style=\"text-align: right;\">\n",
       "      <th></th>\n",
       "      <th>Cement (component 1)(kg in a m^3 mixture)</th>\n",
       "      <th>Blast Furnace Slag (component 2)(kg in a m^3 mixture)</th>\n",
       "      <th>Fly Ash (component 3)(kg in a m^3 mixture)</th>\n",
       "      <th>Water  (component 4)(kg in a m^3 mixture)</th>\n",
       "      <th>Superplasticizer (component 5)(kg in a m^3 mixture)</th>\n",
       "      <th>Coarse Aggregate  (component 6)(kg in a m^3 mixture)</th>\n",
       "      <th>Fine Aggregate (component 7)(kg in a m^3 mixture)</th>\n",
       "      <th>Age (day)</th>\n",
       "      <th>concrete</th>\n",
       "    </tr>\n",
       "  </thead>\n",
       "  <tbody>\n",
       "    <tr>\n",
       "      <th>0</th>\n",
       "      <td>540.0</td>\n",
       "      <td>0.0</td>\n",
       "      <td>0.0</td>\n",
       "      <td>162.0</td>\n",
       "      <td>2.5</td>\n",
       "      <td>1040.0</td>\n",
       "      <td>676.0</td>\n",
       "      <td>28</td>\n",
       "      <td>79.986111</td>\n",
       "    </tr>\n",
       "    <tr>\n",
       "      <th>1</th>\n",
       "      <td>540.0</td>\n",
       "      <td>0.0</td>\n",
       "      <td>0.0</td>\n",
       "      <td>162.0</td>\n",
       "      <td>2.5</td>\n",
       "      <td>1055.0</td>\n",
       "      <td>676.0</td>\n",
       "      <td>28</td>\n",
       "      <td>61.887366</td>\n",
       "    </tr>\n",
       "    <tr>\n",
       "      <th>2</th>\n",
       "      <td>332.5</td>\n",
       "      <td>142.5</td>\n",
       "      <td>0.0</td>\n",
       "      <td>228.0</td>\n",
       "      <td>0.0</td>\n",
       "      <td>932.0</td>\n",
       "      <td>594.0</td>\n",
       "      <td>270</td>\n",
       "      <td>40.269535</td>\n",
       "    </tr>\n",
       "    <tr>\n",
       "      <th>3</th>\n",
       "      <td>332.5</td>\n",
       "      <td>142.5</td>\n",
       "      <td>0.0</td>\n",
       "      <td>228.0</td>\n",
       "      <td>0.0</td>\n",
       "      <td>932.0</td>\n",
       "      <td>594.0</td>\n",
       "      <td>365</td>\n",
       "      <td>41.052780</td>\n",
       "    </tr>\n",
       "    <tr>\n",
       "      <th>4</th>\n",
       "      <td>198.6</td>\n",
       "      <td>132.4</td>\n",
       "      <td>0.0</td>\n",
       "      <td>192.0</td>\n",
       "      <td>0.0</td>\n",
       "      <td>978.4</td>\n",
       "      <td>825.5</td>\n",
       "      <td>360</td>\n",
       "      <td>44.296075</td>\n",
       "    </tr>\n",
       "  </tbody>\n",
       "</table>\n",
       "</div>"
      ],
      "text/plain": [
       "   Cement (component 1)(kg in a m^3 mixture)  \\\n",
       "0                                      540.0   \n",
       "1                                      540.0   \n",
       "2                                      332.5   \n",
       "3                                      332.5   \n",
       "4                                      198.6   \n",
       "\n",
       "   Blast Furnace Slag (component 2)(kg in a m^3 mixture)  \\\n",
       "0                                                0.0       \n",
       "1                                                0.0       \n",
       "2                                              142.5       \n",
       "3                                              142.5       \n",
       "4                                              132.4       \n",
       "\n",
       "   Fly Ash (component 3)(kg in a m^3 mixture)  \\\n",
       "0                                         0.0   \n",
       "1                                         0.0   \n",
       "2                                         0.0   \n",
       "3                                         0.0   \n",
       "4                                         0.0   \n",
       "\n",
       "   Water  (component 4)(kg in a m^3 mixture)  \\\n",
       "0                                      162.0   \n",
       "1                                      162.0   \n",
       "2                                      228.0   \n",
       "3                                      228.0   \n",
       "4                                      192.0   \n",
       "\n",
       "   Superplasticizer (component 5)(kg in a m^3 mixture)  \\\n",
       "0                                                2.5     \n",
       "1                                                2.5     \n",
       "2                                                0.0     \n",
       "3                                                0.0     \n",
       "4                                                0.0     \n",
       "\n",
       "   Coarse Aggregate  (component 6)(kg in a m^3 mixture)  \\\n",
       "0                                             1040.0      \n",
       "1                                             1055.0      \n",
       "2                                              932.0      \n",
       "3                                              932.0      \n",
       "4                                              978.4      \n",
       "\n",
       "   Fine Aggregate (component 7)(kg in a m^3 mixture)  Age (day)   concrete  \n",
       "0                                              676.0         28  79.986111  \n",
       "1                                              676.0         28  61.887366  \n",
       "2                                              594.0        270  40.269535  \n",
       "3                                              594.0        365  41.052780  \n",
       "4                                              825.5        360  44.296075  "
      ]
     },
     "execution_count": 3,
     "metadata": {},
     "output_type": "execute_result"
    }
   ],
   "source": [
    "data=pd.read_excel(\"Concrete_Data.xlsx\")\n",
    "data.head()"
   ]
  },
  {
   "cell_type": "code",
   "execution_count": 4,
   "id": "594276e1-a5f7-44df-bbca-2b6ae3e0f0b0",
   "metadata": {},
   "outputs": [
    {
     "name": "stdout",
     "output_type": "stream",
     "text": [
      "<class 'pandas.core.frame.DataFrame'>\n",
      "RangeIndex: 1030 entries, 0 to 1029\n",
      "Data columns (total 9 columns):\n",
      " #   Column                                                 Non-Null Count  Dtype  \n",
      "---  ------                                                 --------------  -----  \n",
      " 0   Cement (component 1)(kg in a m^3 mixture)              1030 non-null   float64\n",
      " 1   Blast Furnace Slag (component 2)(kg in a m^3 mixture)  1030 non-null   float64\n",
      " 2   Fly Ash (component 3)(kg in a m^3 mixture)             1030 non-null   float64\n",
      " 3   Water  (component 4)(kg in a m^3 mixture)              1030 non-null   float64\n",
      " 4   Superplasticizer (component 5)(kg in a m^3 mixture)    1030 non-null   float64\n",
      " 5   Coarse Aggregate  (component 6)(kg in a m^3 mixture)   1030 non-null   float64\n",
      " 6   Fine Aggregate (component 7)(kg in a m^3 mixture)      1030 non-null   float64\n",
      " 7   Age (day)                                              1030 non-null   int64  \n",
      " 8   concrete                                               1030 non-null   float64\n",
      "dtypes: float64(8), int64(1)\n",
      "memory usage: 72.6 KB\n"
     ]
    }
   ],
   "source": [
    "data.info()"
   ]
  },
  {
   "cell_type": "code",
   "execution_count": 5,
   "id": "f1e22b43-521f-4429-a074-2bfc96665256",
   "metadata": {},
   "outputs": [],
   "source": [
    "#data.drop(columns=[\"Fine Aggregate (component 7)(kg in a m^3 mixture)\"],inplace=True)"
   ]
  },
  {
   "cell_type": "code",
   "execution_count": 6,
   "id": "ae1d7b7c-5654-4aff-8964-888ad321d471",
   "metadata": {},
   "outputs": [],
   "source": [
    "def plot_boxplot(data,ft):\n",
    "    data.boxplot(column=[ft])\n",
    "    plt.grid(False)\n",
    "    plt.show()"
   ]
  },
  {
   "cell_type": "code",
   "execution_count": 7,
   "id": "3278a297-4ebf-4b33-8d70-7fd5a30b82bd",
   "metadata": {},
   "outputs": [],
   "source": [
    "def outliers(data,ft):\n",
    "    Q1=data[ft].quantile(0.25)\n",
    "    Q3=data[ft].quantile(0.75)\n",
    "    IQR=Q3-Q1\n",
    "    lower_bound=Q1-1.5*IQR\n",
    "    upper_bound=Q3+1.5*IQR\n",
    "\n",
    "    ls=data.index[ (data[ft] < lower_bound) | (data[ft]> upper_bound) ]\n",
    "\n",
    "    return ls"
   ]
  },
  {
   "cell_type": "code",
   "execution_count": 8,
   "id": "6029bd26-86b8-4bd2-bd34-bea922be03f5",
   "metadata": {},
   "outputs": [
    {
     "data": {
      "text/plain": [
       "[553,\n",
       " 559,\n",
       " 224,\n",
       " 225,\n",
       " 226,\n",
       " 227,\n",
       " 228,\n",
       " 862,\n",
       " 873,\n",
       " 936,\n",
       " 1019,\n",
       " 76,\n",
       " 79,\n",
       " 99,\n",
       " 102,\n",
       " 122,\n",
       " 125,\n",
       " 145,\n",
       " 148,\n",
       " 168,\n",
       " 171,\n",
       " 2,\n",
       " 3,\n",
       " 4,\n",
       " 6,\n",
       " 12,\n",
       " 17,\n",
       " 19,\n",
       " 20,\n",
       " 23,\n",
       " 24,\n",
       " 25,\n",
       " 26,\n",
       " 27,\n",
       " 30,\n",
       " 31,\n",
       " 32,\n",
       " 33,\n",
       " 34,\n",
       " 35,\n",
       " 39,\n",
       " 41,\n",
       " 42,\n",
       " 43,\n",
       " 47,\n",
       " 50,\n",
       " 51,\n",
       " 56,\n",
       " 58,\n",
       " 60,\n",
       " 61,\n",
       " 63,\n",
       " 64,\n",
       " 65,\n",
       " 66,\n",
       " 603,\n",
       " 604,\n",
       " 609,\n",
       " 610,\n",
       " 615,\n",
       " 616,\n",
       " 619,\n",
       " 620,\n",
       " 621,\n",
       " 622,\n",
       " 755,\n",
       " 756,\n",
       " 762,\n",
       " 768,\n",
       " 769,\n",
       " 791,\n",
       " 792,\n",
       " 794,\n",
       " 795,\n",
       " 797,\n",
       " 798,\n",
       " 813,\n",
       " 814,\n",
       " 820,\n",
       " 823,\n",
       " 0,\n",
       " 153,\n",
       " 181,\n",
       " 381]"
      ]
     },
     "execution_count": 8,
     "metadata": {},
     "output_type": "execute_result"
    }
   ],
   "source": [
    "index_list=[]\n",
    "for feature in [\"Cement (component 1)(kg in a m^3 mixture)\",\"Blast Furnace Slag (component 2)(kg in a m^3 mixture)\",\"Fly Ash (component 3)(kg in a m^3 mixture)\",\"Water  (component 4)(kg in a m^3 mixture)\",\"Superplasticizer (component 5)(kg in a m^3 mixture)\",\"Coarse Aggregate  (component 6)(kg in a m^3 mixture)\",\"Age (day)\",\"concrete\"]:\n",
    "    index_list.extend(outliers(data,feature))\n",
    "index_list"
   ]
  },
  {
   "cell_type": "code",
   "execution_count": 9,
   "id": "1ba95305-2149-4507-a389-740e09e7be7f",
   "metadata": {},
   "outputs": [],
   "source": [
    "def remove(data,ls):\n",
    "    ls=sorted(set(ls))\n",
    "    data=data.drop(ls)\n",
    "    return data"
   ]
  },
  {
   "cell_type": "code",
   "execution_count": 10,
   "id": "993df55b-ac5c-45f0-8a92-30bc93393a65",
   "metadata": {},
   "outputs": [],
   "source": [
    "data_cleaned=remove(data,index_list)"
   ]
  },
  {
   "cell_type": "code",
   "execution_count": 11,
   "id": "9147fa75-8760-4141-9e31-d05d0fd8463a",
   "metadata": {},
   "outputs": [
    {
     "data": {
      "text/html": [
       "<div>\n",
       "<style scoped>\n",
       "    .dataframe tbody tr th:only-of-type {\n",
       "        vertical-align: middle;\n",
       "    }\n",
       "\n",
       "    .dataframe tbody tr th {\n",
       "        vertical-align: top;\n",
       "    }\n",
       "\n",
       "    .dataframe thead th {\n",
       "        text-align: right;\n",
       "    }\n",
       "</style>\n",
       "<table border=\"1\" class=\"dataframe\">\n",
       "  <thead>\n",
       "    <tr style=\"text-align: right;\">\n",
       "      <th></th>\n",
       "      <th>Cement (component 1)(kg in a m^3 mixture)</th>\n",
       "      <th>Blast Furnace Slag (component 2)(kg in a m^3 mixture)</th>\n",
       "      <th>Fly Ash (component 3)(kg in a m^3 mixture)</th>\n",
       "      <th>Water  (component 4)(kg in a m^3 mixture)</th>\n",
       "      <th>Superplasticizer (component 5)(kg in a m^3 mixture)</th>\n",
       "      <th>Coarse Aggregate  (component 6)(kg in a m^3 mixture)</th>\n",
       "      <th>Fine Aggregate (component 7)(kg in a m^3 mixture)</th>\n",
       "      <th>Age (day)</th>\n",
       "      <th>concrete</th>\n",
       "    </tr>\n",
       "  </thead>\n",
       "  <tbody>\n",
       "    <tr>\n",
       "      <th>1</th>\n",
       "      <td>540.0</td>\n",
       "      <td>0.0</td>\n",
       "      <td>0.0</td>\n",
       "      <td>162.0</td>\n",
       "      <td>2.5</td>\n",
       "      <td>1055.0</td>\n",
       "      <td>676.0</td>\n",
       "      <td>28</td>\n",
       "      <td>61.887366</td>\n",
       "    </tr>\n",
       "    <tr>\n",
       "      <th>5</th>\n",
       "      <td>266.0</td>\n",
       "      <td>114.0</td>\n",
       "      <td>0.0</td>\n",
       "      <td>228.0</td>\n",
       "      <td>0.0</td>\n",
       "      <td>932.0</td>\n",
       "      <td>670.0</td>\n",
       "      <td>90</td>\n",
       "      <td>47.029847</td>\n",
       "    </tr>\n",
       "    <tr>\n",
       "      <th>7</th>\n",
       "      <td>380.0</td>\n",
       "      <td>95.0</td>\n",
       "      <td>0.0</td>\n",
       "      <td>228.0</td>\n",
       "      <td>0.0</td>\n",
       "      <td>932.0</td>\n",
       "      <td>594.0</td>\n",
       "      <td>28</td>\n",
       "      <td>36.447770</td>\n",
       "    </tr>\n",
       "    <tr>\n",
       "      <th>8</th>\n",
       "      <td>266.0</td>\n",
       "      <td>114.0</td>\n",
       "      <td>0.0</td>\n",
       "      <td>228.0</td>\n",
       "      <td>0.0</td>\n",
       "      <td>932.0</td>\n",
       "      <td>670.0</td>\n",
       "      <td>28</td>\n",
       "      <td>45.854291</td>\n",
       "    </tr>\n",
       "    <tr>\n",
       "      <th>9</th>\n",
       "      <td>475.0</td>\n",
       "      <td>0.0</td>\n",
       "      <td>0.0</td>\n",
       "      <td>228.0</td>\n",
       "      <td>0.0</td>\n",
       "      <td>932.0</td>\n",
       "      <td>594.0</td>\n",
       "      <td>28</td>\n",
       "      <td>39.289790</td>\n",
       "    </tr>\n",
       "    <tr>\n",
       "      <th>...</th>\n",
       "      <td>...</td>\n",
       "      <td>...</td>\n",
       "      <td>...</td>\n",
       "      <td>...</td>\n",
       "      <td>...</td>\n",
       "      <td>...</td>\n",
       "      <td>...</td>\n",
       "      <td>...</td>\n",
       "      <td>...</td>\n",
       "    </tr>\n",
       "    <tr>\n",
       "      <th>1025</th>\n",
       "      <td>276.4</td>\n",
       "      <td>116.0</td>\n",
       "      <td>90.3</td>\n",
       "      <td>179.6</td>\n",
       "      <td>8.9</td>\n",
       "      <td>870.1</td>\n",
       "      <td>768.3</td>\n",
       "      <td>28</td>\n",
       "      <td>44.284354</td>\n",
       "    </tr>\n",
       "    <tr>\n",
       "      <th>1026</th>\n",
       "      <td>322.2</td>\n",
       "      <td>0.0</td>\n",
       "      <td>115.6</td>\n",
       "      <td>196.0</td>\n",
       "      <td>10.4</td>\n",
       "      <td>817.9</td>\n",
       "      <td>813.4</td>\n",
       "      <td>28</td>\n",
       "      <td>31.178794</td>\n",
       "    </tr>\n",
       "    <tr>\n",
       "      <th>1027</th>\n",
       "      <td>148.5</td>\n",
       "      <td>139.4</td>\n",
       "      <td>108.6</td>\n",
       "      <td>192.7</td>\n",
       "      <td>6.1</td>\n",
       "      <td>892.4</td>\n",
       "      <td>780.0</td>\n",
       "      <td>28</td>\n",
       "      <td>23.696601</td>\n",
       "    </tr>\n",
       "    <tr>\n",
       "      <th>1028</th>\n",
       "      <td>159.1</td>\n",
       "      <td>186.7</td>\n",
       "      <td>0.0</td>\n",
       "      <td>175.6</td>\n",
       "      <td>11.3</td>\n",
       "      <td>989.6</td>\n",
       "      <td>788.9</td>\n",
       "      <td>28</td>\n",
       "      <td>32.768036</td>\n",
       "    </tr>\n",
       "    <tr>\n",
       "      <th>1029</th>\n",
       "      <td>260.9</td>\n",
       "      <td>100.5</td>\n",
       "      <td>78.3</td>\n",
       "      <td>200.6</td>\n",
       "      <td>8.6</td>\n",
       "      <td>864.5</td>\n",
       "      <td>761.5</td>\n",
       "      <td>28</td>\n",
       "      <td>32.401235</td>\n",
       "    </tr>\n",
       "  </tbody>\n",
       "</table>\n",
       "<p>946 rows × 9 columns</p>\n",
       "</div>"
      ],
      "text/plain": [
       "      Cement (component 1)(kg in a m^3 mixture)  \\\n",
       "1                                         540.0   \n",
       "5                                         266.0   \n",
       "7                                         380.0   \n",
       "8                                         266.0   \n",
       "9                                         475.0   \n",
       "...                                         ...   \n",
       "1025                                      276.4   \n",
       "1026                                      322.2   \n",
       "1027                                      148.5   \n",
       "1028                                      159.1   \n",
       "1029                                      260.9   \n",
       "\n",
       "      Blast Furnace Slag (component 2)(kg in a m^3 mixture)  \\\n",
       "1                                                   0.0       \n",
       "5                                                 114.0       \n",
       "7                                                  95.0       \n",
       "8                                                 114.0       \n",
       "9                                                   0.0       \n",
       "...                                                 ...       \n",
       "1025                                              116.0       \n",
       "1026                                                0.0       \n",
       "1027                                              139.4       \n",
       "1028                                              186.7       \n",
       "1029                                              100.5       \n",
       "\n",
       "      Fly Ash (component 3)(kg in a m^3 mixture)  \\\n",
       "1                                            0.0   \n",
       "5                                            0.0   \n",
       "7                                            0.0   \n",
       "8                                            0.0   \n",
       "9                                            0.0   \n",
       "...                                          ...   \n",
       "1025                                        90.3   \n",
       "1026                                       115.6   \n",
       "1027                                       108.6   \n",
       "1028                                         0.0   \n",
       "1029                                        78.3   \n",
       "\n",
       "      Water  (component 4)(kg in a m^3 mixture)  \\\n",
       "1                                         162.0   \n",
       "5                                         228.0   \n",
       "7                                         228.0   \n",
       "8                                         228.0   \n",
       "9                                         228.0   \n",
       "...                                         ...   \n",
       "1025                                      179.6   \n",
       "1026                                      196.0   \n",
       "1027                                      192.7   \n",
       "1028                                      175.6   \n",
       "1029                                      200.6   \n",
       "\n",
       "      Superplasticizer (component 5)(kg in a m^3 mixture)  \\\n",
       "1                                                   2.5     \n",
       "5                                                   0.0     \n",
       "7                                                   0.0     \n",
       "8                                                   0.0     \n",
       "9                                                   0.0     \n",
       "...                                                 ...     \n",
       "1025                                                8.9     \n",
       "1026                                               10.4     \n",
       "1027                                                6.1     \n",
       "1028                                               11.3     \n",
       "1029                                                8.6     \n",
       "\n",
       "      Coarse Aggregate  (component 6)(kg in a m^3 mixture)  \\\n",
       "1                                                1055.0      \n",
       "5                                                 932.0      \n",
       "7                                                 932.0      \n",
       "8                                                 932.0      \n",
       "9                                                 932.0      \n",
       "...                                                 ...      \n",
       "1025                                              870.1      \n",
       "1026                                              817.9      \n",
       "1027                                              892.4      \n",
       "1028                                              989.6      \n",
       "1029                                              864.5      \n",
       "\n",
       "      Fine Aggregate (component 7)(kg in a m^3 mixture)  Age (day)   concrete  \n",
       "1                                                 676.0         28  61.887366  \n",
       "5                                                 670.0         90  47.029847  \n",
       "7                                                 594.0         28  36.447770  \n",
       "8                                                 670.0         28  45.854291  \n",
       "9                                                 594.0         28  39.289790  \n",
       "...                                                 ...        ...        ...  \n",
       "1025                                              768.3         28  44.284354  \n",
       "1026                                              813.4         28  31.178794  \n",
       "1027                                              780.0         28  23.696601  \n",
       "1028                                              788.9         28  32.768036  \n",
       "1029                                              761.5         28  32.401235  \n",
       "\n",
       "[946 rows x 9 columns]"
      ]
     },
     "execution_count": 11,
     "metadata": {},
     "output_type": "execute_result"
    }
   ],
   "source": [
    "data_cleaned"
   ]
  },
  {
   "cell_type": "code",
   "execution_count": 12,
   "id": "3d1d5c2b-82d6-495c-9fed-4206fc20db2d",
   "metadata": {},
   "outputs": [
    {
     "data": {
      "text/plain": [
       "Cement (component 1)(kg in a m^3 mixture)                0\n",
       "Blast Furnace Slag (component 2)(kg in a m^3 mixture)    0\n",
       "Fly Ash (component 3)(kg in a m^3 mixture)               0\n",
       "Water  (component 4)(kg in a m^3 mixture)                0\n",
       "Superplasticizer (component 5)(kg in a m^3 mixture)      0\n",
       "Coarse Aggregate  (component 6)(kg in a m^3 mixture)     0\n",
       "Fine Aggregate (component 7)(kg in a m^3 mixture)        0\n",
       "Age (day)                                                0\n",
       "concrete                                                 0\n",
       "dtype: int64"
      ]
     },
     "execution_count": 12,
     "metadata": {},
     "output_type": "execute_result"
    }
   ],
   "source": [
    "data_cleaned.isnull().sum()"
   ]
  },
  {
   "cell_type": "code",
   "execution_count": 31,
   "id": "351e1ebd-3c5e-44f4-a617-75f055a6347f",
   "metadata": {},
   "outputs": [
    {
     "data": {
      "text/plain": [
       "Cement (component 1)(kg in a m^3 mixture)                0.510539\n",
       "Blast Furnace Slag (component 2)(kg in a m^3 mixture)    0.760281\n",
       "Fly Ash (component 3)(kg in a m^3 mixture)               0.429420\n",
       "Water  (component 4)(kg in a m^3 mixture)               -0.007469\n",
       "Superplasticizer (component 5)(kg in a m^3 mixture)      0.369544\n",
       "Coarse Aggregate  (component 6)(kg in a m^3 mixture)    -0.101502\n",
       "Fine Aggregate (component 7)(kg in a m^3 mixture)       -0.193862\n",
       "Age (day)                                                1.236443\n",
       "concrete                                                 0.446094\n",
       "dtype: float64"
      ]
     },
     "execution_count": 31,
     "metadata": {},
     "output_type": "execute_result"
    }
   ],
   "source": [
    "data_cleaned.skew()"
   ]
  },
  {
   "cell_type": "code",
   "execution_count": 33,
   "id": "06dc4af4-2aac-46f6-bb7a-6084abe95db8",
   "metadata": {},
   "outputs": [],
   "source": [
    "from scipy.stats import boxcox\n",
    "data_cleaned[\"Age (day)\"],a=boxcox(data_cleaned[\"Age (day)\"])"
   ]
  },
  {
   "cell_type": "code",
   "execution_count": 34,
   "id": "5dd1b1e7-f804-4278-84b2-7e98ea0c8ac6",
   "metadata": {},
   "outputs": [],
   "source": [
    "X=data_cleaned.drop(\"concrete\",axis=1)\n",
    "y=data_cleaned[\"concrete\"]"
   ]
  },
  {
   "cell_type": "code",
   "execution_count": 35,
   "id": "6a3a32d8-0859-4a29-b1c1-b2465c8eaad1",
   "metadata": {},
   "outputs": [
    {
     "name": "stdout",
     "output_type": "stream",
     "text": [
      "Intercept: -33.088552762208\n",
      "coefficients: [ 0.12258114  0.09785149  0.0707239  -0.1618712   0.15096923  0.01329407\n",
      "  0.02062633  4.78622933]\n",
      "Train R2: 0.8425946823635366\n",
      "Test R2: 0.8380756173518644\n",
      "cross validation score: 0.7452405573031636\n"
     ]
    }
   ],
   "source": [
    "\n",
    "from sklearn.model_selection import train_test_split\n",
    "X_train,X_test,y_train,y_test=train_test_split(X,y,test_size=0.2,random_state=9)\n",
    "\n",
    "from sklearn.linear_model import LinearRegression\n",
    "model1=LinearRegression()\n",
    "model1.fit(X_train,y_train)\n",
    "\n",
    "from sklearn.model_selection import cross_val_score\n",
    "print(\"Intercept:\",model1.intercept_)\n",
    "print(\"coefficients:\",model1.coef_)\n",
    "\n",
    "train_predictions=model1.predict(X_train)\n",
    "test_predictions=model1.predict(X_test)\n",
    "\n",
    "print(\"Train R2:\",model1.score(X_train,y_train))\n",
    "print(\"Test R2:\",model1.score(X_test,y_test))\n",
    "print(\"cross validation score:\",cross_val_score(model1,X,y,cv=5).mean())"
   ]
  },
  {
   "cell_type": "code",
   "execution_count": 36,
   "id": "52d89758-e5df-4c30-8131-387a1b12daa6",
   "metadata": {},
   "outputs": [
    {
     "data": {
      "text/html": [
       "<table class=\"simpletable\">\n",
       "<caption>OLS Regression Results</caption>\n",
       "<tr>\n",
       "  <th>Dep. Variable:</th>            <td>y</td>        <th>  R-squared:         </th> <td>   0.843</td>\n",
       "</tr>\n",
       "<tr>\n",
       "  <th>Model:</th>                   <td>OLS</td>       <th>  Adj. R-squared:    </th> <td>   0.841</td>\n",
       "</tr>\n",
       "<tr>\n",
       "  <th>Method:</th>             <td>Least Squares</td>  <th>  F-statistic:       </th> <td>   627.2</td>\n",
       "</tr>\n",
       "<tr>\n",
       "  <th>Date:</th>             <td>Wed, 24 Apr 2024</td> <th>  Prob (F-statistic):</th>  <td>  0.00</td> \n",
       "</tr>\n",
       "<tr>\n",
       "  <th>Time:</th>                 <td>00:18:26</td>     <th>  Log-Likelihood:    </th> <td> -3125.6</td>\n",
       "</tr>\n",
       "<tr>\n",
       "  <th>No. Observations:</th>      <td>   946</td>      <th>  AIC:               </th> <td>   6269.</td>\n",
       "</tr>\n",
       "<tr>\n",
       "  <th>Df Residuals:</th>          <td>   937</td>      <th>  BIC:               </th> <td>   6313.</td>\n",
       "</tr>\n",
       "<tr>\n",
       "  <th>Df Model:</th>              <td>     8</td>      <th>                     </th>     <td> </td>   \n",
       "</tr>\n",
       "<tr>\n",
       "  <th>Covariance Type:</th>      <td>nonrobust</td>    <th>                     </th>     <td> </td>   \n",
       "</tr>\n",
       "</table>\n",
       "<table class=\"simpletable\">\n",
       "<tr>\n",
       "      <td></td>         <th>coef</th>     <th>std err</th>      <th>t</th>      <th>P>|t|</th>  <th>[0.025</th>    <th>0.975]</th>  \n",
       "</tr>\n",
       "<tr>\n",
       "  <th>Intercept</th> <td>  -21.5537</td> <td>   18.537</td> <td>   -1.163</td> <td> 0.245</td> <td>  -57.932</td> <td>   14.825</td>\n",
       "</tr>\n",
       "<tr>\n",
       "  <th>X[0]</th>      <td>    0.1229</td> <td>    0.006</td> <td>   21.322</td> <td> 0.000</td> <td>    0.112</td> <td>    0.134</td>\n",
       "</tr>\n",
       "<tr>\n",
       "  <th>X[1]</th>      <td>    0.0974</td> <td>    0.007</td> <td>   14.005</td> <td> 0.000</td> <td>    0.084</td> <td>    0.111</td>\n",
       "</tr>\n",
       "<tr>\n",
       "  <th>X[2]</th>      <td>    0.0722</td> <td>    0.009</td> <td>    8.491</td> <td> 0.000</td> <td>    0.056</td> <td>    0.089</td>\n",
       "</tr>\n",
       "<tr>\n",
       "  <th>X[3]</th>      <td>   -0.2005</td> <td>    0.029</td> <td>   -6.962</td> <td> 0.000</td> <td>   -0.257</td> <td>   -0.144</td>\n",
       "</tr>\n",
       "<tr>\n",
       "  <th>X[4]</th>      <td>    0.0621</td> <td>    0.070</td> <td>    0.889</td> <td> 0.374</td> <td>   -0.075</td> <td>    0.199</td>\n",
       "</tr>\n",
       "<tr>\n",
       "  <th>X[5]</th>      <td>    0.0125</td> <td>    0.006</td> <td>    1.934</td> <td> 0.053</td> <td>   -0.000</td> <td>    0.025</td>\n",
       "</tr>\n",
       "<tr>\n",
       "  <th>X[6]</th>      <td>    0.0160</td> <td>    0.007</td> <td>    2.164</td> <td> 0.031</td> <td>    0.001</td> <td>    0.030</td>\n",
       "</tr>\n",
       "<tr>\n",
       "  <th>X[7]</th>      <td>    4.8359</td> <td>    0.104</td> <td>   46.282</td> <td> 0.000</td> <td>    4.631</td> <td>    5.041</td>\n",
       "</tr>\n",
       "</table>\n",
       "<table class=\"simpletable\">\n",
       "<tr>\n",
       "  <th>Omnibus:</th>       <td>22.397</td> <th>  Durbin-Watson:     </th> <td>   1.367</td>\n",
       "</tr>\n",
       "<tr>\n",
       "  <th>Prob(Omnibus):</th> <td> 0.000</td> <th>  Jarque-Bera (JB):  </th> <td>  27.888</td>\n",
       "</tr>\n",
       "<tr>\n",
       "  <th>Skew:</th>          <td> 0.282</td> <th>  Prob(JB):          </th> <td>8.79e-07</td>\n",
       "</tr>\n",
       "<tr>\n",
       "  <th>Kurtosis:</th>      <td> 3.624</td> <th>  Cond. No.          </th> <td>1.12e+05</td>\n",
       "</tr>\n",
       "</table><br/><br/>Notes:<br/>[1] Standard Errors assume that the covariance matrix of the errors is correctly specified.<br/>[2] The condition number is large, 1.12e+05. This might indicate that there are<br/>strong multicollinearity or other numerical problems."
      ],
      "text/latex": [
       "\\begin{center}\n",
       "\\begin{tabular}{lclc}\n",
       "\\toprule\n",
       "\\textbf{Dep. Variable:}    &        y         & \\textbf{  R-squared:         } &     0.843   \\\\\n",
       "\\textbf{Model:}            &       OLS        & \\textbf{  Adj. R-squared:    } &     0.841   \\\\\n",
       "\\textbf{Method:}           &  Least Squares   & \\textbf{  F-statistic:       } &     627.2   \\\\\n",
       "\\textbf{Date:}             & Wed, 24 Apr 2024 & \\textbf{  Prob (F-statistic):} &     0.00    \\\\\n",
       "\\textbf{Time:}             &     00:18:26     & \\textbf{  Log-Likelihood:    } &   -3125.6   \\\\\n",
       "\\textbf{No. Observations:} &         946      & \\textbf{  AIC:               } &     6269.   \\\\\n",
       "\\textbf{Df Residuals:}     &         937      & \\textbf{  BIC:               } &     6313.   \\\\\n",
       "\\textbf{Df Model:}         &           8      & \\textbf{                     } &             \\\\\n",
       "\\textbf{Covariance Type:}  &    nonrobust     & \\textbf{                     } &             \\\\\n",
       "\\bottomrule\n",
       "\\end{tabular}\n",
       "\\begin{tabular}{lcccccc}\n",
       "                   & \\textbf{coef} & \\textbf{std err} & \\textbf{t} & \\textbf{P$> |$t$|$} & \\textbf{[0.025} & \\textbf{0.975]}  \\\\\n",
       "\\midrule\n",
       "\\textbf{Intercept} &     -21.5537  &       18.537     &    -1.163  &         0.245        &      -57.932    &       14.825     \\\\\n",
       "\\textbf{X[0]}      &       0.1229  &        0.006     &    21.322  &         0.000        &        0.112    &        0.134     \\\\\n",
       "\\textbf{X[1]}      &       0.0974  &        0.007     &    14.005  &         0.000        &        0.084    &        0.111     \\\\\n",
       "\\textbf{X[2]}      &       0.0722  &        0.009     &     8.491  &         0.000        &        0.056    &        0.089     \\\\\n",
       "\\textbf{X[3]}      &      -0.2005  &        0.029     &    -6.962  &         0.000        &       -0.257    &       -0.144     \\\\\n",
       "\\textbf{X[4]}      &       0.0621  &        0.070     &     0.889  &         0.374        &       -0.075    &        0.199     \\\\\n",
       "\\textbf{X[5]}      &       0.0125  &        0.006     &     1.934  &         0.053        &       -0.000    &        0.025     \\\\\n",
       "\\textbf{X[6]}      &       0.0160  &        0.007     &     2.164  &         0.031        &        0.001    &        0.030     \\\\\n",
       "\\textbf{X[7]}      &       4.8359  &        0.104     &    46.282  &         0.000        &        4.631    &        5.041     \\\\\n",
       "\\bottomrule\n",
       "\\end{tabular}\n",
       "\\begin{tabular}{lclc}\n",
       "\\textbf{Omnibus:}       & 22.397 & \\textbf{  Durbin-Watson:     } &    1.367  \\\\\n",
       "\\textbf{Prob(Omnibus):} &  0.000 & \\textbf{  Jarque-Bera (JB):  } &   27.888  \\\\\n",
       "\\textbf{Skew:}          &  0.282 & \\textbf{  Prob(JB):          } & 8.79e-07  \\\\\n",
       "\\textbf{Kurtosis:}      &  3.624 & \\textbf{  Cond. No.          } & 1.12e+05  \\\\\n",
       "\\bottomrule\n",
       "\\end{tabular}\n",
       "%\\caption{OLS Regression Results}\n",
       "\\end{center}\n",
       "\n",
       "Notes: \\newline\n",
       " [1] Standard Errors assume that the covariance matrix of the errors is correctly specified. \\newline\n",
       " [2] The condition number is large, 1.12e+05. This might indicate that there are \\newline\n",
       " strong multicollinearity or other numerical problems."
      ],
      "text/plain": [
       "<class 'statsmodels.iolib.summary.Summary'>\n",
       "\"\"\"\n",
       "                            OLS Regression Results                            \n",
       "==============================================================================\n",
       "Dep. Variable:                      y   R-squared:                       0.843\n",
       "Model:                            OLS   Adj. R-squared:                  0.841\n",
       "Method:                 Least Squares   F-statistic:                     627.2\n",
       "Date:                Wed, 24 Apr 2024   Prob (F-statistic):               0.00\n",
       "Time:                        00:18:26   Log-Likelihood:                -3125.6\n",
       "No. Observations:                 946   AIC:                             6269.\n",
       "Df Residuals:                     937   BIC:                             6313.\n",
       "Df Model:                           8                                         \n",
       "Covariance Type:            nonrobust                                         \n",
       "==============================================================================\n",
       "                 coef    std err          t      P>|t|      [0.025      0.975]\n",
       "------------------------------------------------------------------------------\n",
       "Intercept    -21.5537     18.537     -1.163      0.245     -57.932      14.825\n",
       "X[0]           0.1229      0.006     21.322      0.000       0.112       0.134\n",
       "X[1]           0.0974      0.007     14.005      0.000       0.084       0.111\n",
       "X[2]           0.0722      0.009      8.491      0.000       0.056       0.089\n",
       "X[3]          -0.2005      0.029     -6.962      0.000      -0.257      -0.144\n",
       "X[4]           0.0621      0.070      0.889      0.374      -0.075       0.199\n",
       "X[5]           0.0125      0.006      1.934      0.053      -0.000       0.025\n",
       "X[6]           0.0160      0.007      2.164      0.031       0.001       0.030\n",
       "X[7]           4.8359      0.104     46.282      0.000       4.631       5.041\n",
       "==============================================================================\n",
       "Omnibus:                       22.397   Durbin-Watson:                   1.367\n",
       "Prob(Omnibus):                  0.000   Jarque-Bera (JB):               27.888\n",
       "Skew:                           0.282   Prob(JB):                     8.79e-07\n",
       "Kurtosis:                       3.624   Cond. No.                     1.12e+05\n",
       "==============================================================================\n",
       "\n",
       "Notes:\n",
       "[1] Standard Errors assume that the covariance matrix of the errors is correctly specified.\n",
       "[2] The condition number is large, 1.12e+05. This might indicate that there are\n",
       "strong multicollinearity or other numerical problems.\n",
       "\"\"\""
      ]
     },
     "execution_count": 36,
     "metadata": {},
     "output_type": "execute_result"
    }
   ],
   "source": [
    "import statsmodels.formula.api as smf\n",
    "model2=smf.ols(\"y~X\",data=data_cleaned).fit()\n",
    "model2.summary()"
   ]
  },
  {
   "cell_type": "code",
   "execution_count": 37,
   "id": "063573de-d1c0-4112-aad8-e74af9dae839",
   "metadata": {},
   "outputs": [],
   "source": [
    "from sklearn.model_selection import train_test_split\n",
    "X_train,X_test,y_train,y_test=train_test_split(X,y,test_size=0.2,random_state=13)"
   ]
  },
  {
   "cell_type": "code",
   "execution_count": 55,
   "id": "babfdb7e-2eb7-4e64-87c1-0b6776064bef",
   "metadata": {},
   "outputs": [
    {
     "name": "stdout",
     "output_type": "stream",
     "text": [
      "Train RMSE: 3.9180284998519768\n",
      "Train R2: 0.9429515502073185\n",
      "Cross Validation Score: 0.7617502614622651\n"
     ]
    }
   ],
   "source": [
    "from sklearn.preprocessing import PolynomialFeatures\n",
    "polynomial_converter=PolynomialFeatures(degree=3)\n",
    "X_train_poly=pd.DataFrame(polynomial_converter.fit_transform(X_train))\n",
    "\n",
    "from sklearn.linear_model import LinearRegression\n",
    "model=LinearRegression()\n",
    "model.fit(X_train_poly,y_train)\n",
    "\n",
    "ypred_train=model.predict(X_train_poly)\n",
    "\n",
    "from sklearn.metrics import mean_squared_error,r2_score\n",
    "print(\"Train RMSE:\",np.sqrt(mean_squared_error(y_train,ypred_train)))\n",
    "print(\"Train R2:\",r2_score(y_train,ypred_train))\n",
    "\n",
    "from sklearn.model_selection import cross_val_score\n",
    "print(\"Cross Validation Score:\",cross_val_score(model,X_train_poly,y_train,cv=5).mean())\n"
   ]
  },
  {
   "cell_type": "code",
   "execution_count": 39,
   "id": "b99cef6f-892d-4282-a20a-35918d2d575b",
   "metadata": {},
   "outputs": [
    {
     "name": "stdout",
     "output_type": "stream",
     "text": [
      "Test RMSE: 5.390042183781404\n",
      "Test R2: 0.9002463037113465\n"
     ]
    }
   ],
   "source": [
    "X_test_poly=pd.DataFrame(polynomial_converter.transform(X_test))\n",
    "\n",
    "ypred_test=model.predict(X_test_poly)\n",
    "\n",
    "print(\"Test RMSE:\",np.sqrt(mean_squared_error(y_test,ypred_test)))\n",
    "print(\"Test R2:\",r2_score(y_test,ypred_test))"
   ]
  },
  {
   "cell_type": "code",
   "execution_count": 40,
   "id": "ebd703e9-ddbc-463f-b94a-065b547569cb",
   "metadata": {},
   "outputs": [],
   "source": [
    "train_r2=[]\n",
    "test_r2=[]\n",
    "\n",
    "for i in range(1,10):\n",
    "    polynomial_converter=PolynomialFeatures(degree=i)\n",
    "    X_train_poly=pd.DataFrame(polynomial_converter.fit_transform(X_train))\n",
    "\n",
    "    model=LinearRegression()\n",
    "    model.fit(X_train_poly,y_train)\n",
    "\n",
    "    train_pred=model.predict(X_train_poly)\n",
    "    train_r2.append(model.score(X_train_poly,y_train))\n",
    "\n",
    "    X_test_poly=pd.DataFrame(polynomial_converter.transform(X_test))\n",
    "\n",
    "    test_pred=model.predict(X_test_poly)\n",
    "    test_r2.append(model.score(X_test_poly,y_test))"
   ]
  },
  {
   "cell_type": "code",
   "execution_count": 41,
   "id": "526a6adb-52c4-40a5-b791-0521e5df5601",
   "metadata": {},
   "outputs": [
    {
     "data": {
      "text/plain": [
       "[0.8427085567164938,\n",
       " 0.8922344924689057,\n",
       " 0.9515239287106124,\n",
       " 0.9873258199148023,\n",
       " 0.9946918465982063,\n",
       " 0.9957763663812926,\n",
       " 0.9958335398049105,\n",
       " 0.9959479796484352,\n",
       " 0.9960601460050298]"
      ]
     },
     "execution_count": 41,
     "metadata": {},
     "output_type": "execute_result"
    }
   ],
   "source": [
    "train_r2"
   ]
  },
  {
   "cell_type": "code",
   "execution_count": 42,
   "id": "c985a572-3ac0-4e76-b99c-d73d7aa56973",
   "metadata": {},
   "outputs": [
    {
     "data": {
      "text/plain": [
       "[0.8374482414097246,\n",
       " 0.9002463037113465,\n",
       " 0.9253474402304492,\n",
       " -7.1608616905453655,\n",
       " -1062442134.0591986,\n",
       " -6987697.3278168505,\n",
       " -5710869812.943979,\n",
       " -2291445151.5650816,\n",
       " -247863438.97443745]"
      ]
     },
     "execution_count": 42,
     "metadata": {},
     "output_type": "execute_result"
    }
   ],
   "source": [
    "test_r2"
   ]
  },
  {
   "cell_type": "code",
   "execution_count": 43,
   "id": "cdb78dec-908b-4af0-8c1a-fe72c6c3cbc9",
   "metadata": {},
   "outputs": [
    {
     "name": "stdout",
     "output_type": "stream",
     "text": [
      "train R2: 0.9515239287106124\n",
      "Cross validation score: 0.8156849469292033\n",
      "test R2: 0.9253474402304492\n"
     ]
    }
   ],
   "source": [
    "final_poly_converter=PolynomialFeatures(degree=3)\n",
    "X_train_poly=pd.DataFrame(final_poly_converter.fit_transform(X_train))\n",
    "\n",
    "final_model=LinearRegression()\n",
    "final_model.fit(X_train_poly,y_train)\n",
    "\n",
    "train_pred=final_model.predict(X_train_poly)\n",
    "print(\"train R2:\",final_model.score(X_train_poly,y_train))\n",
    "print(\"Cross validation score:\",cross_val_score(model,X_train_poly,y_train,cv=5).mean())\n",
    "\n",
    "X_test_poly=pd.DataFrame(final_poly_converter.transform(X_test))\n",
    "test_pred=final_model.predict(X_test_poly)\n",
    "print(\"test R2:\",final_model.score(X_test_poly,y_test))"
   ]
  },
  {
   "cell_type": "code",
   "execution_count": 44,
   "id": "2b262a27-bbd4-4747-88df-37623fd50781",
   "metadata": {},
   "outputs": [],
   "source": [
    "from sklearn.model_selection import train_test_split\n",
    "X_train,X_test,y_train,y_test=train_test_split(X,y,test_size=0.2,random_state=9)"
   ]
  },
  {
   "cell_type": "code",
   "execution_count": 45,
   "id": "36395b94-5250-42f3-baf8-4e6aa09ba222",
   "metadata": {},
   "outputs": [
    {
     "data": {
      "text/plain": [
       "{'alpha': 1}"
      ]
     },
     "execution_count": 45,
     "metadata": {},
     "output_type": "execute_result"
    }
   ],
   "source": [
    "from sklearn.model_selection import GridSearchCV\n",
    "\n",
    "from sklearn.linear_model import Lasso\n",
    "estimator=Lasso()\n",
    "param_grid={\"alpha\":list(range(1,100))}\n",
    "\n",
    "model_hp=GridSearchCV(estimator,param_grid,cv=5,scoring='r2')\n",
    "\n",
    "model_hp.fit(X_train,y_train)\n",
    "model_hp.best_params_"
   ]
  },
  {
   "cell_type": "code",
   "execution_count": 53,
   "id": "204a185e-3ee3-41cc-9505-c7c4012df3fb",
   "metadata": {},
   "outputs": [
    {
     "name": "stdout",
     "output_type": "stream",
     "text": [
      "Intercept: -19.92101695694874\n",
      "coefficients: [ 0.12033679  0.09534064  0.06978623 -0.18209534  0.08046823  0.00897835\n",
      "  0.01677401  4.5667302 ]\n",
      "train r2: 0.841540468647293\n",
      "Cv score: 0.836759244881198\n",
      "test r2: 0.8374494560671442\n"
     ]
    }
   ],
   "source": [
    "from sklearn.linear_model import Lasso\n",
    "lasso_best=Lasso(alpha=1)\n",
    "lasso_best.fit(X_train,y_train)\n",
    "\n",
    "print(\"Intercept:\",lasso_best.intercept_)\n",
    "print(\"coefficients:\",lasso_best.coef_)\n",
    "\n",
    "ypred_train=lasso_best.predict(X_train)\n",
    "from sklearn.metrics import r2_score\n",
    "print(\"train r2:\",r2_score(y_train,ypred_train))\n",
    "from sklearn.model_selection import cross_val_score\n",
    "print(\"Cv score:\",cross_val_score(lasso_best,X_train,y_train,cv=5).mean())\n",
    "\n",
    "ypred_test=lasso_best.predict(X_test)\n",
    "print(\"test r2:\",r2_score(y_test,ypred_test))\n"
   ]
  },
  {
   "cell_type": "code",
   "execution_count": 47,
   "id": "c7d2aa7a-e628-4ce6-9abe-98bc0b55cef1",
   "metadata": {},
   "outputs": [
    {
     "data": {
      "text/plain": [
       "{'alpha': 1}"
      ]
     },
     "execution_count": 47,
     "metadata": {},
     "output_type": "execute_result"
    }
   ],
   "source": [
    "X_train,X_test,y_train,y_test=train_test_split(X,y,test_size=0.2,random_state=0)\n",
    "estimator=Ridge()\n",
    "\n",
    "param_grid={\"alpha\":list(range(1,100))}\n",
    "\n",
    "model_hp=GridSearchCV(estimator,param_grid,cv=5,scoring='r2')\n",
    "\n",
    "model_hp.fit(X_train,y_train)\n",
    "model_hp.best_params_"
   ]
  },
  {
   "cell_type": "code",
   "execution_count": 52,
   "id": "cc285774-9237-4c34-aee2-c346dc2b84fa",
   "metadata": {},
   "outputs": [
    {
     "name": "stdout",
     "output_type": "stream",
     "text": [
      "intercept: -33.08046786741762\n",
      "coefficients: [ 0.12257795  0.09784867  0.07072289 -0.16185852  0.15105698  0.01329299\n",
      "  0.02062377  4.78476501]\n",
      "train r2: 0.8425946479731455\n",
      "cv Score: 0.8376928235307005\n",
      "test r2: 0.8380652735739494\n"
     ]
    }
   ],
   "source": [
    "ridge_best=Ridge(alpha=1)\n",
    "ridge_best.fit(X_train,y_train)\n",
    "\n",
    "print(\"intercept:\",ridge_best.intercept_)\n",
    "print(\"coefficients:\",ridge_best.coef_)\n",
    "\n",
    "ypred_train=ridge_best.predict(X_train)\n",
    "print(\"train r2:\",r2_score(y_train,ypred_train))\n",
    "print(\"cv Score:\",cross_val_score(ridge_best,X_train,y_train,cv=5).mean())\n",
    "\n",
    "ypred_test=ridge_best.predict(X_test)\n",
    "print(\"test r2:\",r2_score(y_test,ypred_test))"
   ]
  },
  {
   "cell_type": "code",
   "execution_count": 49,
   "id": "2c8b2f81-6176-49b8-9209-73adf69154aa",
   "metadata": {},
   "outputs": [
    {
     "name": "stdout",
     "output_type": "stream",
     "text": [
      "train R2: 0.8368372338439635\n",
      "test R2: 0.8301046190430988\n",
      "cross Validation Score: 0.7420314192350503\n"
     ]
    }
   ],
   "source": [
    "from sklearn.model_selection import train_test_split\n",
    "X_train,X_test,y_train,y_test=train_test_split(X,y,test_size=0.2,random_state=9)\n",
    "\n",
    "from sklearn.linear_model import ElasticNet\n",
    "enr_base=ElasticNet()\n",
    "enr_base.fit(X_train,y_train)\n",
    "\n",
    "train_predictions=enr_base.predict(X_train)\n",
    "test_predictions=enr_base.predict(X_test)\n",
    "\n",
    "print(\"train R2:\",enr_base.score(X_train,y_train))\n",
    "print(\"test R2:\",enr_base.score(X_test,y_test))\n",
    "from sklearn.model_selection import cross_val_score\n",
    "print(\"cross Validation Score:\",cross_val_score(enr_base,X,y,cv=5).mean())"
   ]
  },
  {
   "cell_type": "code",
   "execution_count": 50,
   "id": "feaa9fd9-c285-4ffb-8a07-1fe4de2e527b",
   "metadata": {},
   "outputs": [
    {
     "data": {
      "text/plain": [
       "{'alpha': 0.1, 'l1_ratio': 1}"
      ]
     },
     "execution_count": 50,
     "metadata": {},
     "output_type": "execute_result"
    }
   ],
   "source": [
    "from sklearn.model_selection import GridSearchCV\n",
    "\n",
    "estimator=ElasticNet()\n",
    "\n",
    "param_grid={\"alpha\":[0.1,0.2,1,2,3,5,10],\"l1_ratio\":[0.1,0.5,0.75,0.9,0.95,1]}\n",
    "\n",
    "model_hp=GridSearchCV(estimator,param_grid,cv=5,scoring='neg_mean_squared_error')\n",
    "model_hp.fit(X_train,y_train)\n",
    "model_hp.best_params_"
   ]
  },
  {
   "cell_type": "code",
   "execution_count": 51,
   "id": "ea1835e8-46de-4e99-b435-75f4244513e1",
   "metadata": {},
   "outputs": [
    {
     "name": "stdout",
     "output_type": "stream",
     "text": [
      "intercept: -9.68244204616984\n",
      "coefficients [ 0.1164674   0.09233206  0.07002229 -0.16125173  0.20456861  0.00808886\n",
      "  0.01395571  2.29531793]\n",
      "Train R2: 0.7425634218268891\n",
      "test R2: 0.7412009884410145\n",
      "cross validation score: 0.6344494202086242\n"
     ]
    }
   ],
   "source": [
    "enr_best=ElasticNet(alpha=5,l1_ratio=0.1)\n",
    "enr_best.fit(X_train,y_train)\n",
    "\n",
    "print(\"intercept:\",enr_best.intercept_)\n",
    "print(\"coefficients\",enr_best.coef_)\n",
    "\n",
    "train_predictions=enr_best.predict(X_train)\n",
    "test_predictions=enr_best.predict(X_test)\n",
    "\n",
    "print(\"Train R2:\",enr_best.score(X_train,y_train))\n",
    "print(\"test R2:\",enr_best.score(X_test,y_test))\n",
    "print(\"cross validation score:\",cross_val_score(enr_best,X,y,cv=5).mean())"
   ]
  },
  {
   "cell_type": "code",
   "execution_count": null,
   "id": "4e21808a-b021-4ea6-9c03-46d372660056",
   "metadata": {},
   "outputs": [],
   "source": []
  }
 ],
 "metadata": {
  "kernelspec": {
   "display_name": "Python 3 (ipykernel)",
   "language": "python",
   "name": "python3"
  },
  "language_info": {
   "codemirror_mode": {
    "name": "ipython",
    "version": 3
   },
   "file_extension": ".py",
   "mimetype": "text/x-python",
   "name": "python",
   "nbconvert_exporter": "python",
   "pygments_lexer": "ipython3",
   "version": "3.12.2"
  }
 },
 "nbformat": 4,
 "nbformat_minor": 5
}
